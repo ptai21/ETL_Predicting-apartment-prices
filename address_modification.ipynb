{
 "cells": [
  {
   "cell_type": "code",
   "execution_count": 1,
   "metadata": {},
   "outputs": [
    {
     "name": "stderr",
     "output_type": "stream",
     "text": [
      "/Library/Frameworks/Python.framework/Versions/3.12/lib/python3.12/site-packages/tqdm/auto.py:21: TqdmWarning: IProgress not found. Please update jupyter and ipywidgets. See https://ipywidgets.readthedocs.io/en/stable/user_install.html\n",
      "  from .autonotebook import tqdm as notebook_tqdm\n"
     ]
    },
    {
     "data": {
      "text/plain": [
       "True"
      ]
     },
     "execution_count": 1,
     "metadata": {},
     "output_type": "execute_result"
    }
   ],
   "source": [
    "import pathlib\n",
    "import textwrap\n",
    "import json\n",
    "import time\n",
    "import csv\n",
    "\n",
    "from tqdm import tqdm\n",
    "import google.generativeai as genai\n",
    "#from config import get_api_key\n",
    "import pandas as pd\n",
    "import numpy as np\n",
    "from IPython.display import display\n",
    "from IPython.display import Markdown\n",
    "from dotenv import load_dotenv\n",
    "import os\n",
    "\n",
    "load_dotenv(\".env\")"
   ]
  },
  {
   "cell_type": "code",
   "execution_count": 2,
   "metadata": {},
   "outputs": [],
   "source": [
    "df = pd.read_excel(\"chung_cu_real.xlsx\")"
   ]
  },
  {
   "cell_type": "code",
   "execution_count": 3,
   "metadata": {},
   "outputs": [],
   "source": [
    "# Configure the generative AI with your API key\n",
    "genai.configure(api_key=os.getenv(\"GEMINI_API\"))\n",
    "model = genai.GenerativeModel('gemini-pro')"
   ]
  },
  {
   "cell_type": "code",
   "execution_count": 4,
   "metadata": {},
   "outputs": [],
   "source": [
    "def extract_district_city(description, prompt_template):\n",
    "    prompt = prompt_template.format(description=description)\n",
    "\n",
    "    try:\n",
    "        response = model.generate_content(prompt)\n",
    "    except Exception as e:\n",
    "        print(f\"Error generating information: {str(e)}\")\n",
    "        response = {\"error\": str(e)}\n",
    "    return response"
   ]
  },
  {
   "cell_type": "code",
   "execution_count": 5,
   "metadata": {},
   "outputs": [],
   "source": [
    "prompt_template = \"\"\"\n",
    "Bạn là một người chuyên tìm vị trí, địa chỉ ở Việt Nam.\n",
    "Tìm trên Google quận/huyện và thành phố/tỉnh trực thuộc của một chung cư ở Việt Nam với địa chỉ {description}.\n",
    "\n",
    "Trả về thông tin về quận/huyện và tỉnh trực thuộc dưới dạng sau:\n",
    "\"Quận/Huyện, Tỉnh\"\n",
    "\n",
    "Danh sách Tỉnh ở Việt Nam: An Giang, Bà Rịa-Vũng Tàu, Bạc Liêu, Bắc Kạn, Bắc Giang, Bắc Ninh, Bến Tre, Bình Dương, Bình Định, Bình Phước, Bình Thuận, Cà Mau, Cao Bằng, \n",
    "Cần Thơ, Đà Nẵng, Đắk Lắk, Đắk Nông, Điện Biên, Đồng Nai, Đồng Tháp, Gia Lai, Hà Giang, Hà Nam, Hà Nội, Hà Tây, Hà Tĩnh, Hải Dương, Hải Phòng, Hòa Bình, Hồ Chí Minh, \n",
    "Hậu Giang, Hưng Yên, Khánh Hòa, Kiên Giang, Kon Tum, Lai Châu, Lào Cai, Lạng Sơn, Lâm Đồng, Long An, Nam Định, Nghệ An, Ninh Bình, Ninh Thuận, Phú Thọ, Phú Yên, \n",
    "Quảng Bình, Quảng Nam, Quảng Ngãi, Quảng Ninh, Quảng Trị, Sóc Trăng, Sơn La, Tây Ninh, Thái Bình, Thái Nguyên, Thanh Hóa, Thừa Thiên - Huế, Tiền Giang, Trà Vinh, \n",
    "Tuyên Quang, Vĩnh Long, Vĩnh Phúc, Yên Bái.\n",
    "\n",
    "Điền vào các vị trí Quận/Huyện (trong danh sách các Quận/Huyện trực thuộc Tỉnh tìm được tương ứng) và Tỉnh (trong danh sách Tỉnh ở trên) bằng các giá trị tìm được trên Google với địa chỉ {description}.\n",
    "Nếu không thể tìm được giá trị để điền vào Quận/Huyện và Tỉnh thì điền trả về \"null\".\n",
    "\n",
    "Ví dụ: \n",
    "Địa chỉ nhập vào là \"Đường Thuận Giao 25, Legacy Prime\", kết quả trả về sẽ là \"Thuận An, Bình Dương\".\n",
    "Địa chỉ nhập vào không tồn tại, kết quả trả về sẽ là \"null\".\n",
    "\"\"\""
   ]
  },
  {
   "cell_type": "code",
   "execution_count": 6,
   "metadata": {},
   "outputs": [],
   "source": [
    "def write_to_csv(string_data, output_file):\n",
    "    # Write to CSV file\n",
    "    try:\n",
    "        with open(output_file, 'a', newline='', encoding='utf-8') as csvfile:\n",
    "            writer = csv.writer(csvfile)\n",
    "            writer.writerow([string_data])\n",
    "    except Exception as e:\n",
    "        print(f\"Error writing to CSV: {str(e)}\")"
   ]
  },
  {
   "cell_type": "code",
   "execution_count": 14,
   "metadata": {},
   "outputs": [],
   "source": [
    "# 201 them \"Thắng Tam, Bà Rịa Vũng Tàu\"\n",
    "# 3602, 3803\n",
    "output_file = \"chung_cu_real2.csv\"\n",
    "j = 3605\n",
    "for i in range(j, 3802):\n",
    "    try:\n",
    "        response = extract_district_city(df.loc[i, \"Vị trí\"], prompt_template)\n",
    "        write_to_csv(response.text, output_file)\n",
    "    except AttributeError as e:\n",
    "        write_to_csv(\"error\", output_file)\n",
    "        print(f\"AttributeError: {e}\")\n",
    "        print(f\"Invalid data: {response}\")\n",
    "    time.sleep(6)"
   ]
  },
  {
   "cell_type": "code",
   "execution_count": 8,
   "metadata": {},
   "outputs": [
    {
     "data": {
      "text/plain": [
       "0     Rose Town 79 Ngọc Hồi, Hoàng Liệt, Hoàng Mai, ...\n",
       "1     Dự án Vincity Ocean Park, Đường An Đào, Xã Dươ...\n",
       "2     KDC Long Hưng, P. Long Hưng, Biên Hòa, Đồng Na...\n",
       "3                     Đường Thuận Giao 25, Legacy Prime\n",
       "4     Dự án Vincity Ocean Park, Đường An Đào, Xã Dươ...\n",
       "                            ...                        \n",
       "95    Xã Suối Tân, Huyện Cam Lâm, Khánh Hòa, Khu că...\n",
       "96    Lò Lu, Trường Thạnh, Quận 9, Hồ Chí Minh, ELYSIAN\n",
       "97                      Giải Phóng –ĐH Kinh tế Quốc Dân\n",
       "98    Vietduc Complex, 402 thap A, 39 Le Van Luong, ...\n",
       "99                         INHOME Ocean Park, S101.1116\n",
       "Name: Vị trí, Length: 100, dtype: object"
      ]
     },
     "execution_count": 8,
     "metadata": {},
     "output_type": "execute_result"
    }
   ],
   "source": [
    "df[\"Vị trí\"].head(100)"
   ]
  }
 ],
 "metadata": {
  "kernelspec": {
   "display_name": "venv",
   "language": "python",
   "name": "python3"
  },
  "language_info": {
   "codemirror_mode": {
    "name": "ipython",
    "version": 3
   },
   "file_extension": ".py",
   "mimetype": "text/x-python",
   "name": "python",
   "nbconvert_exporter": "python",
   "pygments_lexer": "ipython3",
   "version": "3.12.0"
  }
 },
 "nbformat": 4,
 "nbformat_minor": 2
}
