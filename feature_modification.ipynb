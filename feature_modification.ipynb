{
 "cells": [
  {
   "cell_type": "code",
   "execution_count": null,
   "metadata": {},
   "outputs": [],
   "source": [
    "import pandas as pd\n",
    "import numpy as np\n",
    "import re\n",
    "import matplotlib.pyplot as plt\n",
    "import seaborn as sns"
   ]
  },
  {
   "cell_type": "markdown",
   "metadata": {},
   "source": [
    "# Chia Vị trí"
   ]
  },
  {
   "cell_type": "code",
   "execution_count": 1,
   "metadata": {},
   "outputs": [
    {
     "name": "stdout",
     "output_type": "stream",
     "text": [
      "Updated file saved to updated_chung_cu_data.xlsx\n"
     ]
    }
   ],
   "source": [
    "\n",
    "\n",
    "# Load the Excel file\n",
    "file_path = 'final_data 16.25.22.xlsx'\n",
    "xls = pd.ExcelFile(file_path)\n",
    "\n",
    "# Load the data from the 'chung_cu' sheet\n",
    "df = pd.read_excel(file_path, sheet_name='chung_cu')\n",
    "\n",
    "# Clean the data by converting all non-string values in the 'Vị trí' column to strings\n",
    "df['Vị trí'] = df['Vị trí'].astype(str)\n",
    "\n",
    "# Define a function to classify the locations into 'Hà Nội', 'Hồ Chí Minh', 'Other', and 'Unknown'\n",
    "def classify_location(location):\n",
    "    if pd.isna(location) or location.lower() == 'nan':\n",
    "        return 'Unknown'\n",
    "    elif 'Hà Nội' in location or 'Hà Nội' in location:\n",
    "        return 'Hà Nội'\n",
    "    elif 'Hồ Chí Minh' in location:\n",
    "        return 'Hồ Chí Minh'\n",
    "    else:\n",
    "        return 'Other'\n",
    "\n",
    "# Apply the classification function to the 'Vị trí' column\n",
    "df['Classification'] = df['Vị trí'].apply(classify_location)\n",
    "\n",
    "# Save the updated DataFrame to a new Excel file\n",
    "output_file_path = 'updated_chung_cu_data.xlsx'\n",
    "df.to_excel(output_file_path, index=False)\n",
    "\n",
    "print(f\"Updated file saved to {output_file_path}\")\n"
   ]
  },
  {
   "cell_type": "code",
   "execution_count": 2,
   "metadata": {},
   "outputs": [
    {
     "data": {
      "text/html": [
       "<div>\n",
       "<style scoped>\n",
       "    .dataframe tbody tr th:only-of-type {\n",
       "        vertical-align: middle;\n",
       "    }\n",
       "\n",
       "    .dataframe tbody tr th {\n",
       "        vertical-align: top;\n",
       "    }\n",
       "\n",
       "    .dataframe thead th {\n",
       "        text-align: right;\n",
       "    }\n",
       "</style>\n",
       "<table border=\"1\" class=\"dataframe\">\n",
       "  <thead>\n",
       "    <tr style=\"text-align: right;\">\n",
       "      <th></th>\n",
       "      <th>Classification</th>\n",
       "      <th>Count</th>\n",
       "    </tr>\n",
       "  </thead>\n",
       "  <tbody>\n",
       "    <tr>\n",
       "      <th>0</th>\n",
       "      <td>Hà Nội</td>\n",
       "      <td>1870</td>\n",
       "    </tr>\n",
       "    <tr>\n",
       "      <th>1</th>\n",
       "      <td>Other</td>\n",
       "      <td>1040</td>\n",
       "    </tr>\n",
       "    <tr>\n",
       "      <th>2</th>\n",
       "      <td>Hồ Chí Minh</td>\n",
       "      <td>1019</td>\n",
       "    </tr>\n",
       "    <tr>\n",
       "      <th>3</th>\n",
       "      <td>Unknown</td>\n",
       "      <td>252</td>\n",
       "    </tr>\n",
       "  </tbody>\n",
       "</table>\n",
       "</div>"
      ],
      "text/plain": [
       "  Classification  Count\n",
       "0         Hà Nội   1870\n",
       "1          Other   1040\n",
       "2    Hồ Chí Minh   1019\n",
       "3        Unknown    252"
      ]
     },
     "execution_count": 2,
     "metadata": {},
     "output_type": "execute_result"
    }
   ],
   "source": [
    "# Đếm số lượng các giá trị trong cột 'Miền'\n",
    "region_counts = df['Classification'].value_counts()\n",
    "\n",
    "# Chuyển đổi kết quả đếm thành dataframe để dễ dàng xuất ra file Excel\n",
    "region_counts_df = region_counts.reset_index()\n",
    "region_counts_df.columns = ['Classification', 'Count']\n",
    "region_counts_df\n"
   ]
  },
  {
   "cell_type": "markdown",
   "metadata": {},
   "source": [
    "# Sửa Giá"
   ]
  },
  {
   "cell_type": "code",
   "execution_count": null,
   "metadata": {},
   "outputs": [],
   "source": [
    "df = pd.read_excel('final_data_data_2_cuoi_cung_roi.xlsx')\n",
    "df.head()"
   ]
  },
  {
   "cell_type": "code",
   "execution_count": null,
   "metadata": {},
   "outputs": [],
   "source": [
    "def  exchageData(giaca,dientich):\n",
    "    if pd.isna(giaca):\n",
    "        return giaca  # Giữ nguyên nếu giá trị là NaN\n",
    "    if(giaca <1):\n",
    "        if(dientich >= 60):\n",
    "            return 10*giaca\n",
    "        elif(giaca<0.8):\n",
    "            return 10*giaca\n",
    "        else:\n",
    "            return giaca\n",
    "    else:\n",
    "        return giaca"
   ]
  },
  {
   "cell_type": "code",
   "execution_count": null,
   "metadata": {},
   "outputs": [],
   "source": [
    "df['Giá cả'] = df.apply(lambda row: exchageData(row['Giá cả'], row['Diện tích']), axis=1)"
   ]
  },
  {
   "cell_type": "code",
   "execution_count": null,
   "metadata": {},
   "outputs": [],
   "source": [
    "df['Giá cả']"
   ]
  },
  {
   "cell_type": "code",
   "execution_count": null,
   "metadata": {},
   "outputs": [],
   "source": [
    "df[df[\"Giá cả\"]<1][\"Diện tích\"].hist() "
   ]
  },
  {
   "cell_type": "code",
   "execution_count": null,
   "metadata": {},
   "outputs": [],
   "source": [
    "output_file = 'data_sua_gia_18_6_2024.xlsx'\n",
    "df.to_excel(output_file, index=False)"
   ]
  },
  {
   "cell_type": "markdown",
   "metadata": {},
   "source": [
    "# Sửa diện tích"
   ]
  },
  {
   "cell_type": "code",
   "execution_count": null,
   "metadata": {},
   "outputs": [],
   "source": [
    "df  = pd.read_excel('final_data.xlsx')\n",
    "df.head(30)"
   ]
  },
  {
   "cell_type": "code",
   "execution_count": null,
   "metadata": {},
   "outputs": [],
   "source": [
    "# ham trich du tri so bo don vi\n",
    "def extract_number(text):\n",
    "    # Sử dụng biểu thức chính quy để tìm các số có thể có phần thập phân\n",
    "    text = str(text)\n",
    "    match = re.search(r'\\d+(\\.\\d+)?', text)\n",
    "    if match:\n",
    "        return match.group(0)\n",
    "    return None"
   ]
  },
  {
   "cell_type": "markdown",
   "metadata": {},
   "source": [
    "- Bỏ tỷ sau giá cả"
   ]
  },
  {
   "cell_type": "code",
   "execution_count": null,
   "metadata": {},
   "outputs": [],
   "source": [
    "for i, element in enumerate(df[\"Giá cả\"]):\n",
    "    extracted_number = extract_number(element)\n",
    "    if extracted_number is None:\n",
    "        df.loc[i, \"Giá cả\"] = np.nan\n",
    "    else:\n",
    "        df.loc[i, \"Giá cả\"] = extracted_number"
   ]
  },
  {
   "cell_type": "markdown",
   "metadata": {},
   "source": [
    "- Bỏ m2 trong diện tích "
   ]
  },
  {
   "cell_type": "code",
   "execution_count": null,
   "metadata": {},
   "outputs": [],
   "source": [
    "for i, element in enumerate(df[\"Giá cả\"]):\n",
    "    extracted_number = extract_number(element)\n",
    "    if extracted_number is None:\n",
    "        df.loc[i, \"Giá cả\"] = np.nan\n",
    "    else:\n",
    "        df.loc[i, \"Giá cả\"] = extracted_number"
   ]
  },
  {
   "cell_type": "markdown",
   "metadata": {},
   "source": [
    "- Chuyển đổi giá cả thành numeric"
   ]
  },
  {
   "cell_type": "code",
   "execution_count": null,
   "metadata": {},
   "outputs": [],
   "source": [
    "df[\"Giá cả\"] = pd.to_numeric(df[\"Giá cả\"], errors='coerce')"
   ]
  },
  {
   "cell_type": "markdown",
   "metadata": {},
   "source": [
    "- Chuyển đổi số giá trị nhập sai thành đơn vị chuẩn tuân theo quy tắc 9000 thì chia cho 1000"
   ]
  },
  {
   "cell_type": "code",
   "execution_count": null,
   "metadata": {},
   "outputs": [],
   "source": [
    "def standardize_units(value):\n",
    "    if pd.isna(value):\n",
    "        return value  # Giữ nguyên nếu giá trị là NaN\n",
    "    str_value = str(value)\n",
    "    num_digits = len(str_value.replace('.', ''))  # Số chữ số trong giá trị\n",
    "    if num_digits > 2 and value >= 10:\n",
    "        return value / (10 ** (num_digits - 1))  # Chia giá trị cho 10^(số chữ số - 1)\n",
    "    return value  # Giữ nguyên\n"
   ]
  },
  {
   "cell_type": "code",
   "execution_count": null,
   "metadata": {},
   "outputs": [],
   "source": [
    "df[\"Giá cả\"] = df[\"Giá cả\"].apply(standardize_units)"
   ]
  },
  {
   "cell_type": "code",
   "execution_count": null,
   "metadata": {},
   "outputs": [],
   "source": [
    "output_file = 'data_data_2.xlsx'\n",
    "df.to_excel(output_file, index=False)"
   ]
  },
  {
   "cell_type": "markdown",
   "metadata": {},
   "source": [
    "# Phòng ngủ, Phòng vệ sinh"
   ]
  },
  {
   "cell_type": "code",
   "execution_count": null,
   "metadata": {},
   "outputs": [],
   "source": [
    "\n",
    "import pandas as pd\n",
    "\n",
    "# Đường dẫn đến tệp Excel\n",
    "file_path = 'data_cleaned_vitri.xlsx'\n",
    "\n",
    "# Đọc tệp Excel\n",
    "data = pd.read_excel(file_path)\n",
    "\n",
    "# Hàm để làm sạch dữ liệu và chỉ giữ lại số trong cột\n",
    "def extract_number(text):\n",
    "    try:\n",
    "        # Nếu là số nguyên, trả về giá trị trực tiếp\n",
    "        if isinstance(text, int):\n",
    "            return text\n",
    "        # Nếu là chuỗi, lọc và lấy số\n",
    "        elif isinstance(text, str):\n",
    "            numbers = ''.join(filter(str.isdigit, text))\n",
    "            return int(numbers) if numbers else None\n",
    "        # Nếu không là số hay chuỗi, trả về None\n",
    "        else:\n",
    "            return None\n",
    "    except Exception as e:\n",
    "        print(f\"Error processing {text}: {e}\")\n",
    "        return None\n",
    "\n",
    "# Áp dụng hàm để làm sạch dữ liệu\n",
    "data['Số phòng ngủ'] = data['Số phòng ngủ'].apply(extract_number)\n",
    "data['Số nhà vệ sinh'] = data['Số nhà vệ sinh'].apply(extract_number)\n",
    "\n",
    "# Lọc dữ liệu để chỉ bao gồm cột 'Số phòng ngủ' và 'Số nhà vệ sinh'\n",
    "filtered_data = data[['Số phòng ngủ', 'Số nhà vệ sinh']]\n",
    "\n",
    "# Hiển thị dữ liệu đã làm sạch\n",
    "print(filtered_data)\n",
    "\n",
    "# Export the cleaned data to a new Excel file\n",
    "output_file_path = 'filtered_data.xlsx'\n",
    "filtered_data.to_excel(output_file_path, index=False)\n",
    "\n",
    "output_file_path"
   ]
  }
 ],
 "metadata": {
  "kernelspec": {
   "display_name": "Python 3",
   "language": "python",
   "name": "python3"
  },
  "language_info": {
   "codemirror_mode": {
    "name": "ipython",
    "version": 3
   },
   "file_extension": ".py",
   "mimetype": "text/x-python",
   "name": "python",
   "nbconvert_exporter": "python",
   "pygments_lexer": "ipython3",
   "version": "3.12.0"
  }
 },
 "nbformat": 4,
 "nbformat_minor": 2
}
